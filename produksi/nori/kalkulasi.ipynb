{
 "cells": [
  {
   "cell_type": "markdown",
   "metadata": {},
   "source": [
    "# Standar\n",
    "Kalkulasi standar"
   ]
  },
  {
   "cell_type": "markdown",
   "metadata": {},
   "source": [
    "| Bahan            | jumlah |\n",
    "| ---------------- | ------ |\n",
    "| Bahan Baku       | 65%    |\n",
    "| Air              | 22%    |\n",
    "| CMC / karagenan  | 4%     |\n",
    "| Glycerol         | 5%     |\n",
    "| Gula Pasir       | 1%     |\n",
    "| Garam            | 1%     |\n",
    "| Minyak Goreng    | 2%     |"
   ]
  },
  {
   "cell_type": "code",
   "execution_count": 1,
   "metadata": {},
   "outputs": [],
   "source": [
    "proporsi = {\n",
    "    \"baku\": 65 / 100,\n",
    "    \"air\": 22 / 100,\n",
    "    \"cmc/krgn\": 4 / 100,\n",
    "    \"glycerol\": 5 / 100,\n",
    "    \"gula\": 1 / 100,\n",
    "    \"garam\": 1 / 100,\n",
    "    \"minyak\": 2 / 100\n",
    "}"
   ]
  },
  {
   "cell_type": "markdown",
   "metadata": {},
   "source": [
    "Jika:\n",
    "- $ P_b $  adalah persentase bahan baku `65%`\n",
    "- $ P_x $  adalah persentase bahan lainnya `misalnya, air 22%, cmc 4%, dll.`\n",
    "- $ W_b $  adalah berat bahan baku yang digunakan `misalnya, 546 gram`\n",
    "\n",
    "Maka, berat bahan lainnya $ W_x $ dapat dihitung dengan rumus:\n",
    "\n",
    "$ W_x = \\frac{W_b}{P_b} \\times P_x $\n",
    "\n",
    "Penjelasan:\n",
    "- $ \\frac{W_b}{P_b} $ adalah total berat semua bahan yang dibutuhkan (termasuk bahan baku dan bahan lainnya).\n",
    "- $ P_x $ adalah proporsi bahan tertentu yang ingin dihitung (misalnya, air, gula, dll.).\n",
    "- $ W_x $ adalah berat bahan $ x $ yang akan dihitung.\n",
    "\n",
    "Sebagai contoh untuk air:\n",
    "$\n",
    "W_{\\text{air}} = \\frac{546}{0.65} \\times 0.22 = 184.8 \\, \\text{gram}\n",
    "$"
   ]
  },
  {
   "cell_type": "code",
   "execution_count": 2,
   "metadata": {},
   "outputs": [],
   "source": [
    "def calcu_print(nama_bahan, jumlah, propsi):\n",
    "    berat_bahan = {\n",
    "    bahan: (\n",
    "        jumlah / propsi[nama_bahan]\n",
    "    ) * propsi[bahan] for bahan in propsi\n",
    "    }\n",
    "\n",
    "    for bahan, berat in berat_bahan.items():\n",
    "        print(f\"{bahan}     \\t: {berat:.3f} gram\")"
   ]
  },
  {
   "cell_type": "code",
   "execution_count": 3,
   "metadata": {},
   "outputs": [
    {
     "name": "stdout",
     "output_type": "stream",
     "text": [
      "baku     \t: 355.000 gram\n",
      "air     \t: 120.154 gram\n",
      "cmc/krgn     \t: 21.846 gram\n",
      "glycerol     \t: 27.308 gram\n",
      "gula     \t: 5.462 gram\n",
      "garam     \t: 5.462 gram\n",
      "minyak     \t: 10.923 gram\n"
     ]
    }
   ],
   "source": [
    "calcu_print(\"baku\",355, proporsi)"
   ]
  },
  {
   "cell_type": "code",
   "execution_count": 4,
   "metadata": {},
   "outputs": [
    {
     "name": "stdout",
     "output_type": "stream",
     "text": [
      "baku     \t: 354.965 gram\n",
      "air     \t: 120.142 gram\n",
      "cmc/krgn     \t: 21.844 gram\n",
      "glycerol     \t: 27.305 gram\n",
      "gula     \t: 5.461 gram\n",
      "garam     \t: 5.461 gram\n",
      "minyak     \t: 10.922 gram\n"
     ]
    }
   ],
   "source": [
    "calcu_print(\"gula\",5.461, proporsi)"
   ]
  }
 ],
 "metadata": {
  "kernelspec": {
   "display_name": "Env",
   "language": "python",
   "name": "python3"
  },
  "language_info": {
   "codemirror_mode": {
    "name": "ipython",
    "version": 3
   },
   "file_extension": ".py",
   "mimetype": "text/x-python",
   "name": "python",
   "nbconvert_exporter": "python",
   "pygments_lexer": "ipython3",
   "version": "3.12.3"
  }
 },
 "nbformat": 4,
 "nbformat_minor": 2
}
